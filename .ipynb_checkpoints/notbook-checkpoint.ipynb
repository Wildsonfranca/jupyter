{
 "cells": [
  {
   "cell_type": "markdown",
   "metadata": {},
   "source": [
    "# Título do meu documento\n",
    "---"
   ]
  },
  {
   "cell_type": "markdown",
   "metadata": {},
   "source": [
    "Este aqui é um texto digitado por mim para a aula de Python da penúltima semana de curso.\n",
    "\n",
    "\n",
    "## Subtítulo\n",
    "\n",
    "\n",
    "Texto abaixo de subtítulo. para negritar um texto , basta usar **asteristico duplo**. Se eu  quiser colocar texto em italico, basta usar _ um underscore_ no inicio   e outro no final\n",
    "para deixar texto em negrito e italico ao mesmo tempo , basta usar ***três asteriscos***.\n",
    "\n",
    "Para informar um codigo de computador, basta usar a crase para indicar o código. Exemplo: crase ´pip install pandas´ . "
   ]
  },
  {
   "cell_type": "code",
   "execution_count": null,
   "metadata": {},
   "outputs": [],
   "source": [
    "print('Alô , Mundo!')"
   ]
  },
  {
   "cell_type": "markdown",
   "metadata": {},
   "source": [
    "Fazendo uma entrada de dados em Python\n"
   ]
  },
  {
   "cell_type": "code",
   "execution_count": 3,
   "metadata": {},
   "outputs": [
    {
     "name": "stdout",
     "output_type": "stream",
     "text": [
      "maria\n"
     ]
    }
   ],
   "source": [
    "texto = input('informe um texto:')\n",
    "print(texto)"
   ]
  },
  {
   "cell_type": "markdown",
   "metadata": {},
   "source": [
    "## fazendo um import \n"
   ]
  },
  {
   "cell_type": "code",
   "execution_count": null,
   "metadata": {},
   "outputs": [],
   "source": [
    "import calendar\n",
    "print(calendar.month(2024,6))"
   ]
  },
  {
   "cell_type": "markdown",
   "metadata": {},
   "source": [
    "importar pacote externo"
   ]
  },
  {
   "cell_type": "code",
   "execution_count": 5,
   "metadata": {},
   "outputs": [
    {
     "name": "stdout",
     "output_type": "stream",
     "text": [
      "Versão do numpy: 1.26.4\n"
     ]
    }
   ],
   "source": [
    "import numpy as np\n",
    "print(f'Versão do numpy: {np.__version__}')"
   ]
  }
 ],
 "metadata": {
  "kernelspec": {
   "display_name": "Python 3",
   "language": "python",
   "name": "python3"
  },
  "language_info": {
   "codemirror_mode": {
    "name": "ipython",
    "version": 3
   },
   "file_extension": ".py",
   "mimetype": "text/x-python",
   "name": "python",
   "nbconvert_exporter": "python",
   "pygments_lexer": "ipython3",
   "version": "3.12.3"
  }
 },
 "nbformat": 4,
 "nbformat_minor": 2
}
